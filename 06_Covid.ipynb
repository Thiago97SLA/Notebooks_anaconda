{
 "cells": [
  {
   "cell_type": "markdown",
   "id": "ddbba45f",
   "metadata": {},
   "source": [
    "## Análiss Casos COVID-19 en Colombia¶"
   ]
  },
  {
   "cell_type": "code",
   "execution_count": null,
   "id": "03c574cd",
   "metadata": {},
   "outputs": [],
   "source": [
    "#Cargar los móduls mas comunes, con sus alias\n",
    "import numpy as np\n",
    "import pandas as pd\n",
    "\n",
    "import matplotlib.pyplot as plt\n",
    "%matplotlib inline"
   ]
  },
  {
   "cell_type": "code",
   "execution_count": null,
   "id": "0ee48402",
   "metadata": {},
   "outputs": [],
   "source": [
    "#Descargar el CSV desde el datos.gov.co\n",
    "#!wget -O covid.csv 'https://www.datos.gov.co/resource/gt2j-8ykr.csv?$limit=1000'"
   ]
  },
  {
   "cell_type": "code",
   "execution_count": null,
   "id": "f0c27cf7",
   "metadata": {},
   "outputs": [],
   "source": [
    "!wget -O covid.csv https://www.datos.gov.co/api/views/gt2j-8ykr/rows.csv?accessType=DOWNLOAD"
   ]
  },
  {
   "cell_type": "code",
   "execution_count": null,
   "id": "125280a3",
   "metadata": {},
   "outputs": [],
   "source": [
    "#covid = pd.read_csv(\"https://www.datos.gov.co/resource/gt2j-8ykr.csv\")"
   ]
  },
  {
   "cell_type": "code",
   "execution_count": null,
   "id": "e9129b26",
   "metadata": {},
   "outputs": [],
   "source": [
    "covid =pd.read_csv('covid.csv')"
   ]
  },
  {
   "cell_type": "code",
   "execution_count": null,
   "id": "4cf63f56",
   "metadata": {},
   "outputs": [],
   "source": [
    "covid.info()"
   ]
  },
  {
   "cell_type": "code",
   "execution_count": null,
   "id": "d0f12596",
   "metadata": {},
   "outputs": [],
   "source": [
    "covid.columns"
   ]
  },
  {
   "cell_type": "code",
   "execution_count": null,
   "id": "68414cd2",
   "metadata": {},
   "outputs": [],
   "source": [
    "covid.shape"
   ]
  },
  {
   "cell_type": "code",
   "execution_count": null,
   "id": "4f5ed36b",
   "metadata": {},
   "outputs": [],
   "source": [
    "covid.head()"
   ]
  },
  {
   "cell_type": "code",
   "execution_count": null,
   "id": "0b27981a",
   "metadata": {},
   "outputs": [],
   "source": [
    "covid.tail()"
   ]
  },
  {
   "cell_type": "code",
   "execution_count": null,
   "id": "c7dec3ce",
   "metadata": {},
   "outputs": [],
   "source": [
    "covid['Edad'].describe()"
   ]
  },
  {
   "cell_type": "code",
   "execution_count": null,
   "id": "39fd9bb2",
   "metadata": {},
   "outputs": [],
   "source": [
    "covid.sort_values(by=['Nombre municipio', 'Sexo', 'Edad'], ascending=True)"
   ]
  },
  {
   "cell_type": "code",
   "execution_count": null,
   "id": "2fb1fd37",
   "metadata": {},
   "outputs": [],
   "source": [
    "# Cuántas personas con sus edades , hay infectadas por municipio?\n",
    "c2 = covid[['Nombre municipio', 'Sexo', 'Edad']]\n",
    "c2.sort_values(by=['Sexo', 'Edad'], ascending = True)"
   ]
  },
  {
   "cell_type": "code",
   "execution_count": null,
   "id": "486f17c8",
   "metadata": {},
   "outputs": [],
   "source": [
    "c2.groupby(['Nombre municipio'])[['Sexo']].describe()"
   ]
  },
  {
   "cell_type": "code",
   "execution_count": null,
   "id": "8d81e24a",
   "metadata": {},
   "outputs": [],
   "source": [
    "cd = covid.groupby(['Nombre departamento'])[['Edad']].describe()\n",
    "cd"
   ]
  },
  {
   "cell_type": "code",
   "execution_count": null,
   "id": "b5624ea8",
   "metadata": {},
   "outputs": [],
   "source": [
    "cd.columns = cd.columns.droplevel(0)"
   ]
  },
  {
   "cell_type": "code",
   "execution_count": null,
   "id": "6886ba53",
   "metadata": {},
   "outputs": [],
   "source": [
    "cd.columns"
   ]
  },
  {
   "cell_type": "code",
   "execution_count": null,
   "id": "fa4cd762",
   "metadata": {},
   "outputs": [],
   "source": [
    "cd['count']"
   ]
  },
  {
   "cell_type": "code",
   "execution_count": null,
   "id": "37848a42",
   "metadata": {},
   "outputs": [],
   "source": [
    "cd.shape"
   ]
  },
  {
   "cell_type": "code",
   "execution_count": null,
   "id": "184c1991",
   "metadata": {},
   "outputs": [],
   "source": [
    "# graficar la cantidad de casos por departamento\n",
    "fig, ax = plt.subplots(figsize=(16,6))\n",
    "ax.bar(x=cd.index, height = cd['count'], color='blue', alpha=0.4)\n",
    "plt.xticks(rotation=45, ha= 'right')\n",
    "plt.show()"
   ]
  },
  {
   "cell_type": "code",
   "execution_count": null,
   "id": "86b8f8ee",
   "metadata": {},
   "outputs": [],
   "source": [
    "# Promedio de edad por departamento\n",
    "fig, ax = plt.subplots(figsize=(16,6))\n",
    "ax.bar(x=cd.index, height = cd['mean'], color='red', alpha=0.4)\n",
    "plt.xticks(rotation=45, ha= 'right')\n",
    "plt.show()"
   ]
  },
  {
   "cell_type": "code",
   "execution_count": null,
   "id": "9a806514",
   "metadata": {},
   "outputs": [],
   "source": [
    "# Acumulado de Casos por Dia\n",
    "covid"
   ]
  },
  {
   "cell_type": "code",
   "execution_count": null,
   "id": "7c1f813b",
   "metadata": {},
   "outputs": [],
   "source": [
    "for fecha in ['fecha reporte web','Fecha de notificación','Fecha de inicio de síntomas','Fecha de muerte','Fecha de diagnóstico','Fecha de recuperación']:\n",
    "    covid[fecha]= pd.to_datetime(covid[fecha], format='%d/%m/%Y %H:%M:%S')"
   ]
  },
  {
   "cell_type": "code",
   "execution_count": null,
   "id": "1d7d5269",
   "metadata": {},
   "outputs": [],
   "source": [
    "# Acumulado de casos por dia\n",
    "cf = covid.groupby(['Fecha de diagnóstico'])[['Edad']].describe()\n",
    "cf"
   ]
  },
  {
   "cell_type": "code",
   "execution_count": null,
   "id": "8b030051",
   "metadata": {},
   "outputs": [],
   "source": [
    "cf.columns = cf.columns.droplevel(0)"
   ]
  },
  {
   "cell_type": "code",
   "execution_count": null,
   "id": "032cfd89",
   "metadata": {},
   "outputs": [],
   "source": [
    "cf.columns"
   ]
  },
  {
   "cell_type": "code",
   "execution_count": null,
   "id": "9acdd991",
   "metadata": {},
   "outputs": [],
   "source": [
    "# Total de casos diagnosticados por dia\n",
    "fig, ax = plt.subplots(figsize=(16,6))\n",
    "ax.plot(cf.index, cf['count'], 'g:', alpha=0.9)\n",
    "ax.set(title = 'Total Pacientes Diagnosticados por dia',\n",
    "       xlabel = 'Fecha',\n",
    "       ylabel = 'Pacientes')\n",
    "plt.xticks(rotation=45, ha= 'right')\n",
    "ax.grid()\n",
    "plt.show()"
   ]
  },
  {
   "cell_type": "code",
   "execution_count": null,
   "id": "2c026838",
   "metadata": {},
   "outputs": [],
   "source": [
    "cf['acumulados'] = cf['count'].cumsum()"
   ]
  },
  {
   "cell_type": "code",
   "execution_count": null,
   "id": "d7489ff7",
   "metadata": {},
   "outputs": [],
   "source": [
    "# Total de casos diagnosticados por dia\n",
    "fig, ax = plt.subplots(figsize=(16,6))\n",
    "ax.plot(cf.index, cf['acumulados'], 'r.-', alpha=0.9)\n",
    "ax.set(title = 'Pacientes Acumulados Diagnosticados por dia',\n",
    "       xlabel = 'Fechas',\n",
    "       ylabel = 'Acumulado')\n",
    "ax.grid()\n",
    "plt.show()"
   ]
  }
 ],
 "metadata": {
  "kernelspec": {
   "display_name": "Python 3",
   "language": "python",
   "name": "python3"
  },
  "language_info": {
   "codemirror_mode": {
    "name": "ipython",
    "version": 3
   },
   "file_extension": ".py",
   "mimetype": "text/x-python",
   "name": "python",
   "nbconvert_exporter": "python",
   "pygments_lexer": "ipython3",
   "version": "3.8.10"
  }
 },
 "nbformat": 4,
 "nbformat_minor": 5
}
