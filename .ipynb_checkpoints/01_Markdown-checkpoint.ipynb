{
 "cells": [
  {
   "cell_type": "markdown",
   "id": "f974109c",
   "metadata": {},
   "source": [
    "# Markdown"
   ]
  },
  {
   "cell_type": "markdown",
   "id": "2d3d5673",
   "metadata": {},
   "source": [
    "# titulo\n",
    "## titulo\n",
    "### titulo\n",
    "#### titulo\n",
    "##### titulo\n",
    "###### titulo"
   ]
  },
  {
   "cell_type": "markdown",
   "id": "d8f2c224",
   "metadata": {},
   "source": [
    "# Blockquote\n",
    "Los _blockquotes_ se hacen con el signo ```< ``` \n"
   ]
  },
  {
   "cell_type": "markdown",
   "id": "465927bd",
   "metadata": {},
   "source": [
    "## Ordenadas\n",
    " 1. colores\n",
    "    1. Rojo\n",
    "    2. Azul\n",
    "    3. Verde\n",
    " 2. Frutas\n",
    "    1. sandida\n",
    "    2. mago\n",
    "    3. banano\n",
    " 3. Sabores\n",
    "    1. salado\n",
    "    2. dulce\n",
    "    \n",
    "## No ordenado\n",
    " * Aniameles\n",
    "  - Perro\n",
    "  - gato\n",
    "  - caiman\n",
    " * Frutas \n",
    "  - Citricos\n",
    "   + Limon\n",
    "   + Naranja\n",
    "   + Toronja\n",
    "  - Manzana\n",
    "  - Pera\n",
    "  "
   ]
  },
  {
   "cell_type": "markdown",
   "id": "fc0cf296",
   "metadata": {},
   "source": [
    "# Enlaces \n",
    "    un enlace simpre tiene la forma ``` [nombre][url]\"tootip\"```\n",
    "### Libros \n",
    "* [Git Book](https://git-scm.com/book/en/v2)\n",
    "* [Coleccion de libros de python](https://platzi.com/contributions/5-libros-para-aprender-mas-sobre-python/)\n",
    "\n",
    "# Imagenes\n",
    "\n",
    " las imagenes tiene la mism forma ``` [nombre][url]\"tootip\"```\n",
    "![Jupyter](https://jupyter.org/assets/hublogo.svg)"
   ]
  },
  {
   "cell_type": "code",
   "execution_count": 5,
   "id": "40117603",
   "metadata": {},
   "outputs": [
    {
     "ename": "IndentationError",
     "evalue": "unindent does not match any outer indentation level (<tokenize>, line 32)",
     "output_type": "error",
     "traceback": [
      "\u001b[0;36m  File \u001b[0;32m\"<tokenize>\"\u001b[0;36m, line \u001b[0;32m32\u001b[0m\n\u001b[0;31m    </html>\u001b[0m\n\u001b[0m    ^\u001b[0m\n\u001b[0;31mIndentationError\u001b[0m\u001b[0;31m:\u001b[0m unindent does not match any outer indentation level\n"
     ]
    }
   ],
   "source": [
    "# Codigo\n",
    "\n",
    "Utiliza 4 espacios\n",
    "    \n",
    "    fruta = ['pera', 'manzan', 'piña']\n",
    "    for fruta in frutas:\n",
    "        print(frutas)\n",
    "        \n",
    "        \n",
    "En un bloque de codigo (4 espacios ), los Tags HTML no tien efecto:\n",
    "    \n",
    "    <html>\n",
    "        <head>\n",
    "            <title>No pasa nada</title>\n",
    "        </head>\n",
    "    </html>\n",
    "     \n",
    "Tambien se crea un bloque de codigo con triple comillas invertida, y le indico el lenguaje \n",
    "\n",
    "```pyton\n",
    "fruta = ['pera', 'manzan', 'piña']\n",
    "    for fruta in frutas:\n",
    "        print(frutas)\n",
    "```\n",
    "\n",
    "\n",
    "```html\n",
    "<html>\n",
    "    <head>\n",
    "        <title>No pasa nada</title>\n",
    "    </head>\n",
    "</html>\n",
    "```"
   ]
  },
  {
   "cell_type": "code",
   "execution_count": null,
   "id": "cdeee48b",
   "metadata": {},
   "outputs": [],
   "source": []
  }
 ],
 "metadata": {
  "kernelspec": {
   "display_name": "Python 3",
   "language": "python",
   "name": "python3"
  },
  "language_info": {
   "codemirror_mode": {
    "name": "ipython",
    "version": 3
   },
   "file_extension": ".py",
   "mimetype": "text/x-python",
   "name": "python",
   "nbconvert_exporter": "python",
   "pygments_lexer": "ipython3",
   "version": "3.8.8"
  }
 },
 "nbformat": 4,
 "nbformat_minor": 5
}
