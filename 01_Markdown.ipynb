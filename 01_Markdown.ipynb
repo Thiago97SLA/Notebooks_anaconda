{
 "cells": [
  {
   "cell_type": "markdown",
   "id": "f974109c",
   "metadata": {},
   "source": [
    "# Markdown"
   ]
  },
  {
   "cell_type": "markdown",
   "id": "4b7787c0",
   "metadata": {},
   "source": [
    "# titulo\n",
    "## titulo\n",
    "### titulo\n",
    "#### titulo\n",
    "##### titulo\n",
    "###### titulo"
   ]
  },
  {
   "cell_type": "markdown",
   "id": "7d226458",
   "metadata": {},
   "source": [
    "# Blockquote\n",
    "Los _blockquotes_ se hacen con el signo ```< ``` \n"
   ]
  },
  {
   "cell_type": "markdown",
   "id": "142f9d2e",
   "metadata": {},
   "source": [
    "## Ordenadas\n",
    " 1. colores\n",
    "    1. Rojo\n",
    "    2. Azul\n",
    "    3. Verde\n",
    " 2. Frutas\n",
    "    1. sandida\n",
    "    2. mago\n",
    "    3. banano\n",
    " 3. Sabores\n",
    "    1. salado\n",
    "    2. dulce\n",
    "    \n",
    "## No ordenado\n",
    " * Aniameles\n",
    "  - Perro\n",
    "  - gato\n",
    "  - caiman\n",
    " * Frutas \n",
    "  - Citricos\n",
    "   + Limon\n",
    "   + Naranja\n",
    "   + Toronja\n",
    "  - Manzana\n",
    "  - Pera\n",
    "  "
   ]
  },
  {
   "cell_type": "markdown",
   "id": "5c8904f6",
   "metadata": {},
   "source": [
    "# Enlaces \n",
    "  un enlace simpre tiene la forma ```[nombre][url]\"tootip\"```\n",
    "### Libros \n",
    "* [Git Book](https://git-scm.com/book/en/v2)\n",
    "* [Coleccion de libros de python](https://platzi.com/contributions/5-libros-para-aprender-mas-sobre-python/)\n",
    "\n",
    "# Imagenes\n",
    "\n",
    " las imagenes tiene la mism forma ``` [nombre][url]\"tootip\"```\n",
    "![Jupyter](https://jupyter.org/assets/hublogo.svg)"
   ]
  },
  {
   "cell_type": "markdown",
   "id": "d4b8a993",
   "metadata": {},
   "source": [
    "# Codigo\n",
    "\n",
    "Utiliza 4 espacios\n",
    "    \n",
    "    fruta = ['pera', 'manzan', 'piña']\n",
    "    for fruta in frutas:\n",
    "        print(frutas)\n",
    "        \n",
    "        \n",
    "En un bloque de codigo (4 espacios ), los Tags HTML no tien efecto:\n",
    "    \n",
    "    <html>\n",
    "        <head>\n",
    "            <title>No pasa nada</title>\n",
    "        </head>\n",
    "    </html>\n",
    "     \n",
    "Tambien se crea un bloque de codigo con triple comillas invertida, y le indico el lenguaje \n",
    "\n",
    "```python\n",
    "fruta = ['pera', 'manzan', 'piña']\n",
    "    for fruta in frutas:\n",
    "        print(frutas)\n",
    "```\n",
    "```html\n",
    "<html>\n",
    "    <head>\n",
    "        <title>No pasa nada</title>\n",
    "    </head>\n",
    "</html>\n",
    "```"
   ]
  },
  {
   "cell_type": "markdown",
   "id": "19991bb4",
   "metadata": {},
   "source": [
    "## TABLA\n",
    "\n",
    "|CEDULA|NOMBRE|CIUDAD|\n",
    "|------|------|------|\n",
    "|121212|Santiago|Cali|\n",
    "|212121|Daniela|Cali|\n",
    "|3423423|Nicolas|Jamundi|\n"
   ]
  },
  {
   "cell_type": "markdown",
   "id": "76d1bad8",
   "metadata": {},
   "source": [
    "# Comandos"
   ]
  },
  {
   "cell_type": "code",
   "execution_count": null,
   "id": "301721ce",
   "metadata": {},
   "outputs": [],
   "source": [
    "#Crea un shell por casa linea de comando\n",
    "\n",
    "!cd /tmp\n",
    "!pwd\n",
    "!ls -l"
   ]
  },
  {
   "cell_type": "code",
   "execution_count": null,
   "id": "dd6665a2",
   "metadata": {},
   "outputs": [],
   "source": [
    "#Crea un shell y ejecuta todas las lineas de comando en el mismo \n",
    "\n",
    "%cd /tmp\n",
    "%pwd\n",
    "%ls -l\n",
    "%cd"
   ]
  },
  {
   "cell_type": "code",
   "execution_count": null,
   "id": "9cf5dbb6",
   "metadata": {},
   "outputs": [],
   "source": [
    "#Muestra la lineas de comandos para usar con el %\n",
    "%lsmagic"
   ]
  },
  {
   "cell_type": "code",
   "execution_count": null,
   "id": "79fd7cfc",
   "metadata": {},
   "outputs": [],
   "source": [
    "%cd Notebooks\n",
    "%run hola.py"
   ]
  },
  {
   "cell_type": "code",
   "execution_count": 1,
   "id": "6d11ea81",
   "metadata": {},
   "outputs": [
    {
     "data": {
      "text/html": [
       "<iframe width=\"560\" height=\"315\" src=\"https://www.youtube.com/watch?v=pvaYn4X3r_I\">\n"
      ],
      "text/plain": [
       "<IPython.core.display.HTML object>"
      ]
     },
     "metadata": {},
     "output_type": "display_data"
    }
   ],
   "source": [
    "%%HTML\n",
    "<iframe width=\"560\" height=\"315\" src=\"https://www.youtube.com/watch?v=pvaYn4X3r_I\">"
   ]
  },
  {
   "cell_type": "code",
   "execution_count": null,
   "id": "2d876349",
   "metadata": {},
   "outputs": [],
   "source": []
  },
  {
   "cell_type": "code",
   "execution_count": null,
   "id": "98c79e79",
   "metadata": {},
   "outputs": [],
   "source": []
  }
 ],
 "metadata": {
  "kernelspec": {
   "display_name": "Python 3",
   "language": "python",
   "name": "python3"
  },
  "language_info": {
   "codemirror_mode": {
    "name": "ipython",
    "version": 3
   },
   "file_extension": ".py",
   "mimetype": "text/x-python",
   "name": "python",
   "nbconvert_exporter": "python",
   "pygments_lexer": "ipython3",
   "version": "3.8.8"
  }
 },
 "nbformat": 4,
 "nbformat_minor": 5
}
