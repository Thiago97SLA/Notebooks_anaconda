{
 "cells": [
  {
   "cell_type": "markdown",
   "id": "f974109c",
   "metadata": {},
   "source": [
    "# Markdown"
   ]
  },
  {
   "cell_type": "markdown",
   "id": "579842c4",
   "metadata": {},
   "source": [
    "# titulo\n",
    "## titulo\n",
    "### titulo\n",
    "#### titulo\n",
    "##### titulo\n",
    "###### titulo"
   ]
  },
  {
   "cell_type": "markdown",
   "id": "cea2afa5",
   "metadata": {},
   "source": [
    "# Blockquote\n",
    "Los _blockquotes_ se hacen con el signo ```< ``` \n"
   ]
  },
  {
   "cell_type": "markdown",
   "id": "5b344cde",
   "metadata": {},
   "source": [
    "## Ordenadas\n",
    " 1. colores\n",
    "    1. Rojo\n",
    "    2. Azul\n",
    "    3. Verde\n",
    " 2. Frutas\n",
    "    1. sandida\n",
    "    2. mago\n",
    "    3. banano\n",
    " 3. Sabores\n",
    "    1. salado\n",
    "    2. dulce\n",
    "    \n",
    "## No ordenado\n",
    " * Aniameles\n",
    "  - Perro\n",
    "  - gato\n",
    "  - caiman\n",
    " * Frutas \n",
    "  - Citricos\n",
    "   + Limon\n",
    "   + Naranja\n",
    "   + Toronja\n",
    "  - Manzana\n",
    "  - Pera\n",
    "  "
   ]
  },
  {
   "cell_type": "markdown",
   "id": "37b77e36",
   "metadata": {},
   "source": [
    "# Enlaces \n",
    "    un enlace simpre tiene la forma ``` [nombre][url]\"tootip\"```\n",
    "### Libros \n",
    "* [Git Book](https://git-scm.com/book/en/v2)\n",
    "* [Coleccion de libros de python](https://platzi.com/contributions/5-libros-para-aprender-mas-sobre-python/)\n",
    "\n",
    "# Imagenes\n",
    "\n",
    " las imagenes tiene la mism forma ``` [nombre][url]\"tootip\"```\n",
    "![Jupyter](https://jupyter.org/assets/hublogo.svg)"
   ]
  },
  {
   "cell_type": "markdown",
   "id": "e72f91d4",
   "metadata": {},
   "source": [
    "# Codigo\n",
    "\n",
    "Utiliza 4 espacios\n",
    "    \n",
    "    fruta = ['pera', 'manzan', 'piña']\n",
    "    for fruta in frutas:\n",
    "        print(frutas)\n",
    "        \n",
    "        \n",
    "En un bloque de codigo (4 espacios ), los Tags HTML no tien efecto:\n",
    "    \n",
    "    <html>\n",
    "        <head>\n",
    "            <title>No pasa nada</title>\n",
    "        </head>\n",
    "    </html>\n",
    "     \n",
    "Tambien se crea un bloque de codigo con triple comillas invertida, y le indico el lenguaje \n",
    "\n",
    "```python\n",
    "fruta = ['pera', 'manzan', 'piña']\n",
    "    for fruta in frutas:\n",
    "        print(frutas)\n",
    "```\n",
    "```html\n",
    "<html>\n",
    "    <head>\n",
    "        <title>No pasa nada</title>\n",
    "    </head>\n",
    "</html>\n",
    "```"
   ]
  },
  {
   "cell_type": "markdown",
   "id": "6cd22048",
   "metadata": {},
   "source": [
    "## TABLA\n",
    "\n",
    "|CEDULA|NOMBRE|CIUDAD|\n",
    "|------|------|------|\n",
    "|121212|Santiago|Cali|\n",
    "|212121|Daniela|Cali|\n",
    "|3423423|Nicolas|Jamundi|\n"
   ]
  },
  {
   "cell_type": "markdown",
   "id": "670415a8",
   "metadata": {},
   "source": [
    "# Comandos"
   ]
  },
  {
   "cell_type": "code",
   "execution_count": 29,
   "id": "4e3884ca",
   "metadata": {},
   "outputs": [
    {
     "name": "stdout",
     "output_type": "stream",
     "text": [
      "/home/ubuntu/Notebooks\n",
      "total 28\n",
      "-rw-rw-r-- 1 ubuntu ubuntu 12112 Jun 17 01:50 01_Markdown.ipynb\n",
      "-rw-rw-r-- 1 ubuntu ubuntu   122 Jun 16 01:48 README.md\n",
      "-rw-rw-r-- 1 ubuntu ubuntu    21 Jun 17 00:18 gitignore\n",
      "-rw------- 1 ubuntu ubuntu     3 Jun 16 02:37 gitignore.save\n",
      "-rw-rw-r-- 1 ubuntu ubuntu    27 Jun 17 01:49 hola.py\n"
     ]
    }
   ],
   "source": [
    "#Crea un shell por casa linea de comando\n",
    "\n",
    "!cd /tmp\n",
    "!pwd\n",
    "!ls -l"
   ]
  },
  {
   "cell_type": "code",
   "execution_count": 30,
   "id": "b7afcf9e",
   "metadata": {},
   "outputs": [
    {
     "name": "stdout",
     "output_type": "stream",
     "text": [
      "/tmp\n",
      "total 20\n",
      "drwx------ 3 root   root   4096 Jun 16 23:37 \u001b[0m\u001b[38;5;5msnap.lxd\u001b[0m/\n",
      "drwx------ 3 root   root   4096 Jun 16 23:37 \u001b[38;5;5msystemd-private-3707a1efc0d048a9bf822b5dec9b77e8-systemd-logind.service-OQS3Cg\u001b[0m\u001b[K/\n",
      "drwx------ 3 root   root   4096 Jun 16 23:37 \u001b[38;5;5msystemd-private-3707a1efc0d048a9bf822b5dec9b77e8-systemd-resolved.service-Usyrdg\u001b[0m\u001b[K/\n",
      "drwx------ 3 root   root   4096 Jun 16 23:37 \u001b[38;5;5msystemd-private-3707a1efc0d048a9bf822b5dec9b77e8-systemd-timesyncd.service-sDWGMg\u001b[0m\u001b[K/\n",
      "drwx------ 2 ubuntu ubuntu 4096 Jun 16 23:45 \u001b[38;5;5mtmux-1000\u001b[0m/\n",
      "/home/ubuntu\n"
     ]
    }
   ],
   "source": [
    "#Crea un shell y ejecuta todas las lineas de comando en el mismo \n",
    "\n",
    "%cd /tmp\n",
    "%pwd\n",
    "%ls -l\n",
    "%cd"
   ]
  },
  {
   "cell_type": "code",
   "execution_count": 31,
   "id": "39f725f2",
   "metadata": {},
   "outputs": [
    {
     "data": {
      "application/json": {
       "cell": {
        "!": "OSMagics",
        "HTML": "Other",
        "SVG": "Other",
        "bash": "Other",
        "capture": "ExecutionMagics",
        "debug": "ExecutionMagics",
        "file": "Other",
        "html": "DisplayMagics",
        "javascript": "DisplayMagics",
        "js": "DisplayMagics",
        "latex": "DisplayMagics",
        "markdown": "DisplayMagics",
        "perl": "Other",
        "prun": "ExecutionMagics",
        "pypy": "Other",
        "python": "Other",
        "python2": "Other",
        "python3": "Other",
        "ruby": "Other",
        "script": "ScriptMagics",
        "sh": "Other",
        "svg": "DisplayMagics",
        "sx": "OSMagics",
        "system": "OSMagics",
        "time": "ExecutionMagics",
        "timeit": "ExecutionMagics",
        "writefile": "OSMagics"
       },
       "line": {
        "alias": "OSMagics",
        "alias_magic": "BasicMagics",
        "autoawait": "AsyncMagics",
        "autocall": "AutoMagics",
        "automagic": "AutoMagics",
        "autosave": "KernelMagics",
        "bookmark": "OSMagics",
        "cat": "Other",
        "cd": "OSMagics",
        "clear": "KernelMagics",
        "colors": "BasicMagics",
        "conda": "PackagingMagics",
        "config": "ConfigMagics",
        "connect_info": "KernelMagics",
        "cp": "Other",
        "debug": "ExecutionMagics",
        "dhist": "OSMagics",
        "dirs": "OSMagics",
        "doctest_mode": "BasicMagics",
        "ed": "Other",
        "edit": "KernelMagics",
        "env": "OSMagics",
        "gui": "BasicMagics",
        "hist": "Other",
        "history": "HistoryMagics",
        "killbgscripts": "ScriptMagics",
        "ldir": "Other",
        "less": "KernelMagics",
        "lf": "Other",
        "lk": "Other",
        "ll": "Other",
        "load": "CodeMagics",
        "load_ext": "ExtensionMagics",
        "loadpy": "CodeMagics",
        "logoff": "LoggingMagics",
        "logon": "LoggingMagics",
        "logstart": "LoggingMagics",
        "logstate": "LoggingMagics",
        "logstop": "LoggingMagics",
        "ls": "Other",
        "lsmagic": "BasicMagics",
        "lx": "Other",
        "macro": "ExecutionMagics",
        "magic": "BasicMagics",
        "man": "KernelMagics",
        "matplotlib": "PylabMagics",
        "mkdir": "Other",
        "more": "KernelMagics",
        "mv": "Other",
        "notebook": "BasicMagics",
        "page": "BasicMagics",
        "pastebin": "CodeMagics",
        "pdb": "ExecutionMagics",
        "pdef": "NamespaceMagics",
        "pdoc": "NamespaceMagics",
        "pfile": "NamespaceMagics",
        "pinfo": "NamespaceMagics",
        "pinfo2": "NamespaceMagics",
        "pip": "PackagingMagics",
        "popd": "OSMagics",
        "pprint": "BasicMagics",
        "precision": "BasicMagics",
        "prun": "ExecutionMagics",
        "psearch": "NamespaceMagics",
        "psource": "NamespaceMagics",
        "pushd": "OSMagics",
        "pwd": "OSMagics",
        "pycat": "OSMagics",
        "pylab": "PylabMagics",
        "qtconsole": "KernelMagics",
        "quickref": "BasicMagics",
        "recall": "HistoryMagics",
        "rehashx": "OSMagics",
        "reload_ext": "ExtensionMagics",
        "rep": "Other",
        "rerun": "HistoryMagics",
        "reset": "NamespaceMagics",
        "reset_selective": "NamespaceMagics",
        "rm": "Other",
        "rmdir": "Other",
        "run": "ExecutionMagics",
        "save": "CodeMagics",
        "sc": "OSMagics",
        "set_env": "OSMagics",
        "store": "StoreMagics",
        "sx": "OSMagics",
        "system": "OSMagics",
        "tb": "ExecutionMagics",
        "time": "ExecutionMagics",
        "timeit": "ExecutionMagics",
        "unalias": "OSMagics",
        "unload_ext": "ExtensionMagics",
        "who": "NamespaceMagics",
        "who_ls": "NamespaceMagics",
        "whos": "NamespaceMagics",
        "xdel": "NamespaceMagics",
        "xmode": "BasicMagics"
       }
      },
      "text/plain": [
       "Available line magics:\n",
       "%alias  %alias_magic  %autoawait  %autocall  %automagic  %autosave  %bookmark  %cat  %cd  %clear  %colors  %conda  %config  %connect_info  %cp  %debug  %dhist  %dirs  %doctest_mode  %ed  %edit  %env  %gui  %hist  %history  %killbgscripts  %ldir  %less  %lf  %lk  %ll  %load  %load_ext  %loadpy  %logoff  %logon  %logstart  %logstate  %logstop  %ls  %lsmagic  %lx  %macro  %magic  %man  %matplotlib  %mkdir  %more  %mv  %notebook  %page  %pastebin  %pdb  %pdef  %pdoc  %pfile  %pinfo  %pinfo2  %pip  %popd  %pprint  %precision  %prun  %psearch  %psource  %pushd  %pwd  %pycat  %pylab  %qtconsole  %quickref  %recall  %rehashx  %reload_ext  %rep  %rerun  %reset  %reset_selective  %rm  %rmdir  %run  %save  %sc  %set_env  %store  %sx  %system  %tb  %time  %timeit  %unalias  %unload_ext  %who  %who_ls  %whos  %xdel  %xmode\n",
       "\n",
       "Available cell magics:\n",
       "%%!  %%HTML  %%SVG  %%bash  %%capture  %%debug  %%file  %%html  %%javascript  %%js  %%latex  %%markdown  %%perl  %%prun  %%pypy  %%python  %%python2  %%python3  %%ruby  %%script  %%sh  %%svg  %%sx  %%system  %%time  %%timeit  %%writefile\n",
       "\n",
       "Automagic is ON, % prefix IS NOT needed for line magics."
      ]
     },
     "execution_count": 31,
     "metadata": {},
     "output_type": "execute_result"
    }
   ],
   "source": [
    "#Muestra la lineas de comandos para usar con el %\n",
    "%lsmagic"
   ]
  },
  {
   "cell_type": "code",
   "execution_count": 33,
   "id": "0ebbd389",
   "metadata": {},
   "outputs": [
    {
     "name": "stdout",
     "output_type": "stream",
     "text": [
      "/home/ubuntu/Notebooks\n",
      "Hola desde python\n"
     ]
    }
   ],
   "source": [
    "%cd Notebooks\n",
    "%run hola.py"
   ]
  },
  {
   "cell_type": "code",
   "execution_count": null,
   "id": "95ae4a9f",
   "metadata": {},
   "outputs": [],
   "source": [
    "%%HTML\n",
    "<iframe width=\"560\" height=\"315\" src=\"https://www.youtube.com/watch?v=eOXcSKgoZFY\">"
   ]
  },
  {
   "cell_type": "code",
   "execution_count": null,
   "id": "791b4a0c",
   "metadata": {},
   "outputs": [],
   "source": []
  },
  {
   "cell_type": "code",
   "execution_count": null,
   "id": "f632cb24",
   "metadata": {},
   "outputs": [],
   "source": []
  }
 ],
 "metadata": {
  "kernelspec": {
   "display_name": "Python 3",
   "language": "python",
   "name": "python3"
  },
  "language_info": {
   "codemirror_mode": {
    "name": "ipython",
    "version": 3
   },
   "file_extension": ".py",
   "mimetype": "text/x-python",
   "name": "python",
   "nbconvert_exporter": "python",
   "pygments_lexer": "ipython3",
   "version": "3.8.8"
  }
 },
 "nbformat": 4,
 "nbformat_minor": 5
}
